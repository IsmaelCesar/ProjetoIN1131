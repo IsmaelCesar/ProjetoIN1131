{
 "cells": [
  {
   "cell_type": "code",
   "execution_count": 1,
   "metadata": {},
   "outputs": [
    {
     "name": "stdout",
     "output_type": "stream",
     "text": [
      "testando Git\n"
     ]
    }
   ],
   "source": [
    "import requests\n",
    "import pandas as pd\n",
    "\n",
    "bingMapsKey = \"ApW97Mgc-_yq2hd71Ltdz6bbPq-Aiu0FBp2PVmGfdEDiC96v21RpEiAYYtbtcrDS\"\n",
    "origin = \"Av. Inácio de Barros Barreto, 233, Varzea, Recife, PE\"\n",
    "destination = \"Marco Zero, Recife, PE\""
   ]
  },
  {
   "cell_type": "code",
   "execution_count": null,
   "metadata": {},
   "outputs": [],
   "source": [
    "import requests\n",
    "\n",
    "def calcular_tempo_entre_coordenadas(api_key, origem, destino, modo):\n",
    "    # Define a URL da API do Bing Maps\n",
    "    base_url = \"https://dev.virtualearth.net/REST/v1/Routes\"\n",
    "\n",
    "    # Monta os parâmetros da solicitação\n",
    "    params = {\n",
    "        \"wayPoint.1\": origem,\n",
    "        \"wayPoint.2\": destino,\n",
    "        \"key\": api_key,\n",
    "        \"mode\": modo,\n",
    "    }\n",
    "\n",
    "    # Faz a solicitação à API do Bing Maps\n",
    "    response = requests.get(base_url, params=params)\n",
    "    dados = response.json()\n",
    "\n",
    "    # Verifica se a solicitação foi bem-sucedida\n",
    "    if response.status_code == 200 and dados.get(\"resourceSets\"):\n",
    "        try:\n",
    "            # Extrai a duração estimada do percurso\n",
    "            duracao = dados[\"resourceSets\"][0][\"resources\"][0][\"travelDuration\"]\n",
    "            return duracao\n",
    "        except (KeyError, IndexError):\n",
    "            return \"Não foi possível obter a duração do percurso.\"\n",
    "    else:\n",
    "        return f\"Erro na solicitação: {response.status_code} - {dados.get('errorDetails')}\"\n",
    "\n",
    "if __name__ == \"__main__\":\n",
    "    # Substitua 'SuaChaveDeAPI' pela sua chave de API do Bing Maps\n",
    "    chave_api = bingMapsKey\n",
    "\n",
    "    # Substitua 'Origem' e 'Destino' pelas coordenadas ou endereços desejados\n",
    "    coordenada_origem = origin\n",
    "    coordenada_destino  = destination\n",
    "\n",
    "\n",
    "    # Chame a função para obter a duração estimada do percurso\n",
    "    tempo_estimado = calcular_tempo_entre_coordenadas(chave_api, coordenada_origem, coordenada_destino, modo='Driving')\n",
    "\n",
    "    print(\"Tempo estimado em minutos: \",(tempo_estimado)/60)"
   ]
  },
  {
   "cell_type": "code",
   "execution_count": null,
   "metadata": {},
   "outputs": [],
   "source": [
    "import requests\n",
    "\n",
    "def calcular(api_key, origem, destino, modo):\n",
    "    base_url = \"https://dev.virtualearth.net/REST/v1/Routes\"\n",
    "    params = {\n",
    "        \"wayPoint.1\": origem,\n",
    "        \"wayPoint.2\": destino,\n",
    "        \"key\": api_key,\n",
    "        \"mode\": modo,\n",
    "    }\n",
    "\n",
    "    response = requests.get(base_url, params=params)\n",
    "    dados = response.json()\n",
    "\n",
    "    if response.status_code == 200 and dados.get(\"resourceSets\"):\n",
    "        try:\n",
    "            distancia_metros = dados[\"resourceSets\"][0][\"resources\"][0][\"travelDistance\"]\n",
    "            duracao_segundos = dados[\"resourceSets\"][0][\"resources\"][0][\"travelDuration\"]\n",
    "            duracao_minutos = duracao_segundos / 60\n",
    "\n",
    "            return {\"distancia_metros\": distancia_metros, \"duracao_minutos\": duracao_minutos}\n",
    "        except (KeyError, IndexError) as e:\n",
    "            return f\"Erro ao extrair dados da resposta: {e}\"\n",
    "    else:\n",
    "        return f\"Erro na solicitação: {response.status_code} - {dados.get('errorDetails')}\"\n",
    "\n",
    "if __name__ == \"__main__\":\n",
    "    chave_api = bingMapsKey\n",
    "    coordenada_origem = \"São Pedro 927 Aracati CE\"\n",
    "    coordenada_destino = \"Centro de Informática, UFPE, Recife\"\n",
    "    modo_transporte = 'Driving'\n",
    "\n",
    "    resultado = calcular(chave_api, coordenada_origem, coordenada_destino, modo=modo_transporte)\n",
    "\n",
    "    if isinstance(resultado, dict):\n",
    "        print(f\"Distância estimada do percurso: {resultado['distancia_metros']:.2f} metros\")\n",
    "        print(f\"Tempo estimado de percurso: {resultado['duracao_minutos']:.2f} minutos\")\n",
    "    else:\n",
    "        print(f\"Erro: {resultado}\")"
   ]
  }
 ],
 "metadata": {
  "kernelspec": {
   "display_name": "Python 3",
   "language": "python",
   "name": "python3"
  },
  "language_info": {
   "codemirror_mode": {
    "name": "ipython",
    "version": 3
   },
   "file_extension": ".py",
   "mimetype": "text/x-python",
   "name": "python",
   "nbconvert_exporter": "python",
   "pygments_lexer": "ipython3",
   "version": "3.10.13"
  }
 },
 "nbformat": 4,
 "nbformat_minor": 2
}
